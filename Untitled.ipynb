{
 "cells": [
  {
   "cell_type": "markdown",
   "id": "b7876d91-2546-4686-8f34-ce91a3f9f811",
   "metadata": {},
   "source": [
    "# Packages"
   ]
  },
  {
   "cell_type": "code",
   "execution_count": 1,
   "id": "20c6c03e-ac33-412d-90e7-86a8129beb7f",
   "metadata": {},
   "outputs": [
    {
     "data": {
      "text/plain": [
       "backward (generic function with 9 methods)"
      ]
     },
     "execution_count": 1,
     "metadata": {},
     "output_type": "execute_result"
    }
   ],
   "source": [
    "include(\"graph.jl\")"
   ]
  },
  {
   "cell_type": "code",
   "execution_count": 2,
   "id": "6ab669f4-d39e-4711-9f0c-409056fe1600",
   "metadata": {},
   "outputs": [
    {
     "name": "stderr",
     "output_type": "stream",
     "text": [
      "\u001b[32m\u001b[1m   Resolving\u001b[22m\u001b[39m package versions...\n",
      "\u001b[32m\u001b[1m  No Changes\u001b[22m\u001b[39m to `~/.julia/environments/v1.10/Project.toml`\n",
      "\u001b[32m\u001b[1m  No Changes\u001b[22m\u001b[39m to `~/.julia/environments/v1.10/Manifest.toml`\n",
      "\u001b[32m\u001b[1m   Resolving\u001b[22m\u001b[39m package versions...\n",
      "\u001b[32m\u001b[1m  No Changes\u001b[22m\u001b[39m to `~/.julia/environments/v1.10/Project.toml`\n",
      "\u001b[32m\u001b[1m  No Changes\u001b[22m\u001b[39m to `~/.julia/environments/v1.10/Manifest.toml`\n"
     ]
    }
   ],
   "source": [
    "using Pkg\n",
    "Pkg.add(\"MLDatasets\")\n",
    "Pkg.add(\"Flux\")"
   ]
  },
  {
   "cell_type": "markdown",
   "id": "6b36c108-a1fa-45ef-b147-f2338c3fcb49",
   "metadata": {},
   "source": [
    "---\n",
    "# Dataset"
   ]
  },
  {
   "cell_type": "code",
   "execution_count": 3,
   "id": "dcbc46e7-2d8a-428c-bdcf-e7c6dd7a857f",
   "metadata": {},
   "outputs": [
    {
     "data": {
      "text/plain": [
       "10000-element DataLoader(::Tuple{Matrix{Float32}, OneHotArrays.OneHotMatrix{UInt32, Vector{UInt32}}}, shuffle=true)\n",
       "  with first element:\n",
       "  (784×1 Matrix{Float32}, 10×1 OneHotMatrix(::Vector{UInt32}) with eltype Bool,)"
      ]
     },
     "execution_count": 3,
     "metadata": {},
     "output_type": "execute_result"
    }
   ],
   "source": [
    "using MLDatasets\n",
    "train_data = MLDatasets.MNIST(split=:train)\n",
    "test_data  = MLDatasets.MNIST(split=:test)\n",
    "\n",
    "using Flux\n",
    "function loader(data; batchsize::Int=1)\n",
    "    x1dim = reshape(data.features, 28 * 28, :) # reshape 28×28 pixels into a vector of pixels\n",
    "    yhot  = Flux.onehotbatch(data.targets, 0:9) # make a 10×60000 OneHotMatrix\n",
    "    Flux.DataLoader((x1dim, yhot); batchsize, shuffle=true)\n",
    "end\n",
    "\n",
    "train_loader = loader(train_data)\n",
    "test_loader = loader(test_data)"
   ]
  },
  {
   "cell_type": "markdown",
   "id": "e7307257-f3f6-4cfd-9436-f9b0b8b89c39",
   "metadata": {},
   "source": [
    "---\n",
    "# Operations"
   ]
  },
  {
   "cell_type": "markdown",
   "id": "964089f0-70bb-4ead-9e90-5cb9ae06ccc5",
   "metadata": {},
   "source": [
    "## Tanh"
   ]
  },
  {
   "cell_type": "code",
   "execution_count": 4,
   "id": "b30b982b-f0bd-49a2-99d9-4933ea1f5faf",
   "metadata": {},
   "outputs": [
    {
     "data": {
      "text/plain": [
       "backward (generic function with 10 methods)"
      ]
     },
     "execution_count": 4,
     "metadata": {},
     "output_type": "execute_result"
    }
   ],
   "source": [
    "import Base: tanh\n",
    "\n",
    "# tanh(x::GraphNode) = ScalarOperator(tanh, x)\n",
    "# forward(::ScalarOperator{typeof(tanh)}, x) = return tanh(x)\n",
    "# backward(::ScalarOperator{typeof(tanh)}, x, g) = let\n",
    "#     return tuple((1 - tanh(x)^2) * g)\n",
    "# end\n",
    "tanh(x::GraphNode) = BroadcastedOperator(tanh, x)\n",
    "forward(::BroadcastedOperator{typeof(tanh)}, x) = return tanh.(x)\n",
    "backward(node::BroadcastedOperator{typeof(tanh)}, x, g) = return tuple((1 .- tanh.(x).^2) .* g)"
   ]
  },
  {
   "cell_type": "markdown",
   "id": "2a2f81a6-f478-4f00-ac9b-20327a7302c0",
   "metadata": {},
   "source": [
    "## Softmax"
   ]
  },
  {
   "cell_type": "code",
   "execution_count": 5,
   "id": "76c7e323-ca56-4fa0-b777-cb35e9533308",
   "metadata": {},
   "outputs": [
    {
     "data": {
      "text/plain": [
       "backward (generic function with 11 methods)"
      ]
     },
     "execution_count": 5,
     "metadata": {},
     "output_type": "execute_result"
    }
   ],
   "source": [
    "Softmax(x::GraphNode) = BroadcastedOperator(Softmax, x)\n",
    "forward(::BroadcastedOperator{typeof(Softmax)}, x) = return exp.(x) ./ sum(exp.(x))\n",
    "backward(node::BroadcastedOperator{typeof(Softmax)}, x, g) = let\n",
    "    y = node.output\n",
    "    J = diagm(y) .- y * y'\n",
    "    tuple(J' * g)\n",
    "end"
   ]
  },
  {
   "cell_type": "markdown",
   "id": "017356bd-d9da-4f90-868b-819b68c37816",
   "metadata": {},
   "source": [
    "## Log"
   ]
  },
  {
   "cell_type": "code",
   "execution_count": 6,
   "id": "df75d494-6c26-4cca-a077-57640e352441",
   "metadata": {},
   "outputs": [
    {
     "data": {
      "text/plain": [
       "backward (generic function with 12 methods)"
      ]
     },
     "execution_count": 6,
     "metadata": {},
     "output_type": "execute_result"
    }
   ],
   "source": [
    "import Base: log\n",
    "Base.Broadcast.broadcasted(log, x::GraphNode) = BroadcastedOperator(log, x)\n",
    "forward(::BroadcastedOperator{typeof(log)}, x) = return log.(x)\n",
    "backward(::BroadcastedOperator{typeof(log)}, x, g) = let\n",
    "    tuple(g ./ x)\n",
    "end"
   ]
  },
  {
   "cell_type": "markdown",
   "id": "e65fd212-4d06-434d-9545-27a938347fb9",
   "metadata": {},
   "source": [
    "---\n",
    "# Network"
   ]
  },
  {
   "cell_type": "code",
   "execution_count": 7,
   "id": "94e6aee6-1b3b-484d-93e2-276d7c0ede03",
   "metadata": {},
   "outputs": [
    {
     "data": {
      "text/plain": [
       "4"
      ]
     },
     "execution_count": 7,
     "metadata": {},
     "output_type": "execute_result"
    }
   ],
   "source": [
    "INPUT_SIZE = 196\n",
    "HIDDEN_SIZE = 64\n",
    "OUTPUT_SIZE = 10\n",
    "\n",
    "STEP_COUNT = 4"
   ]
  },
  {
   "cell_type": "code",
   "execution_count": 8,
   "id": "295667bf-47c1-4843-a43b-d4bf25af3cf4",
   "metadata": {},
   "outputs": [
    {
     "data": {
      "text/plain": [
       "var wo\n",
       " ┣━ ^ 10×64 Matrix{Float64}\n",
       " ┗━ ∇ Nothing"
      ]
     },
     "execution_count": 8,
     "metadata": {},
     "output_type": "execute_result"
    }
   ],
   "source": [
    "using LinearAlgebra\n",
    "\n",
    "bound = 1/sqrt(HIDDEN_SIZE)  # read somewhere that this is a good way to init weights for tanh\n",
    "\n",
    "Wi = Variable(bound .* rand(HIDDEN_SIZE, INPUT_SIZE), name=\"wi\")\n",
    "Wh = Variable(bound .* rand(HIDDEN_SIZE, HIDDEN_SIZE), name=\"wh\")\n",
    "Wo = Variable(randn(OUTPUT_SIZE, HIDDEN_SIZE), name=\"wo\")"
   ]
  },
  {
   "cell_type": "code",
   "execution_count": 9,
   "id": "8dc21e1d-bfcd-4032-99e2-0fd3d88ac778",
   "metadata": {},
   "outputs": [
    {
     "data": {
      "text/plain": [
       "cross_entropy_loss (generic function with 1 method)"
      ]
     },
     "execution_count": 9,
     "metadata": {},
     "output_type": "execute_result"
    }
   ],
   "source": [
    "function cross_entropy_loss(prediction, label)\n",
    "    return Constant(-1) .* sum(Variable(label) .* log.(prediction))\n",
    "end"
   ]
  },
  {
   "cell_type": "code",
   "execution_count": 19,
   "id": "7fd577ae-b64a-4d4d-acbb-76ab99366528",
   "metadata": {},
   "outputs": [
    {
     "data": {
      "text/plain": [
       "net (generic function with 1 method)"
      ]
     },
     "execution_count": 19,
     "metadata": {},
     "output_type": "execute_result"
    }
   ],
   "source": [
    "function net(sample, input_weights, hidden_weights, output_weights, label)\n",
    "    i_1 = Variable(transpose(sample[1:196]'), name=\"first_step_input\")\n",
    "    i_2 = Variable(transpose(sample[197:392]'), name=\"second_step_input\")\n",
    "    i_3 = Variable(transpose(sample[393:588]'), name=\"third_step_input\")\n",
    "    i_4 = Variable(transpose(sample[589:784]'), name=\"fourth_step_input\")\n",
    "\n",
    "    s_1 = tanh(Wi * i_1)\n",
    "    s_1.name = \"s_1\"\n",
    "    s_2 = tanh(Wi * i_2 .+ Wh * s_1)\n",
    "    s_2.name = \"s_2\"\n",
    "    s_3 = tanh(Wi * i_3 .+ Wh * s_2)\n",
    "    s_3.name = \"s_3\"\n",
    "    s_4 = tanh(Wi * i_4 .+ Wh * s_3)\n",
    "    s_4.name = \"s_4\"\n",
    "    prediction = Softmax(Wo * s_4)\n",
    "    prediction.name = \"prediction\"\n",
    "\n",
    "    E = cross_entropy_loss(prediction, label)\n",
    "    E.name = \"loss\"\n",
    "\n",
    "    return topological_sort(E), prediction\n",
    "end"
   ]
  },
  {
   "cell_type": "markdown",
   "id": "43d8cda8-dbcf-46b3-b9eb-6144493c9b2e",
   "metadata": {},
   "source": [
    "---\n",
    "# Training"
   ]
  },
  {
   "cell_type": "code",
   "execution_count": 30,
   "id": "dc4ae959-3bbc-4cff-ad0b-2f30941ea1b1",
   "metadata": {},
   "outputs": [
    {
     "data": {
      "text/plain": [
       "100"
      ]
     },
     "execution_count": 30,
     "metadata": {},
     "output_type": "execute_result"
    }
   ],
   "source": [
    "STEP_SIZE = 15e-3\n",
    "EPOCHS = 5\n",
    "BATCHSIZE = 100"
   ]
  },
  {
   "cell_type": "code",
   "execution_count": 31,
   "id": "5a41ebaa-3402-49dc-a6e4-490842dee105",
   "metadata": {},
   "outputs": [],
   "source": [
    "for (s, l) in test_loader\n",
    "    graph, predicted = net(s, Wi, Wh, Wo, l)\n",
    "    forward!(graph)\n",
    "    backward!(graph)\n",
    "end"
   ]
  },
  {
   "cell_type": "code",
   "execution_count": null,
   "id": "8b269cf9-8086-4be2-a0f1-12f3fe4b4281",
   "metadata": {},
   "outputs": [],
   "source": []
  }
 ],
 "metadata": {
  "kernelspec": {
   "display_name": "Julia 1.10.3",
   "language": "julia",
   "name": "julia-1.10"
  },
  "language_info": {
   "file_extension": ".jl",
   "mimetype": "application/julia",
   "name": "julia",
   "version": "1.10.4"
  }
 },
 "nbformat": 4,
 "nbformat_minor": 5
}
