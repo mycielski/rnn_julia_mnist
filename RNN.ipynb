{
 "cells": [
  {
   "cell_type": "code",
   "execution_count": 1,
   "id": "da045d46-f088-4fb3-bbd3-7db22db55d3c",
   "metadata": {},
   "outputs": [
    {
     "name": "stderr",
     "output_type": "stream",
     "text": [
      "\u001b[32m\u001b[1m    Updating\u001b[22m\u001b[39m registry at `~/.julia/registries/General.toml`\n",
      "\u001b[32m\u001b[1m   Resolving\u001b[22m\u001b[39m package versions...\n",
      "\u001b[32m\u001b[1m  No Changes\u001b[22m\u001b[39m to `~/.julia/environments/v1.10/Project.toml`\n",
      "\u001b[32m\u001b[1m  No Changes\u001b[22m\u001b[39m to `~/.julia/environments/v1.10/Manifest.toml`\n",
      "\u001b[32m\u001b[1m   Resolving\u001b[22m\u001b[39m package versions...\n",
      "\u001b[32m\u001b[1m  No Changes\u001b[22m\u001b[39m to `~/.julia/environments/v1.10/Project.toml`\n",
      "\u001b[32m\u001b[1m  No Changes\u001b[22m\u001b[39m to `~/.julia/environments/v1.10/Manifest.toml`\n"
     ]
    }
   ],
   "source": [
    "using Pkg\n",
    "Pkg.add(\"MLDatasets\")\n",
    "Pkg.add(\"Flux\")"
   ]
  },
  {
   "cell_type": "code",
   "execution_count": 2,
   "id": "73178182-38fe-44fe-9b5f-450577c5b312",
   "metadata": {},
   "outputs": [
    {
     "data": {
      "text/plain": [
       "dataset MNIST:\n",
       "  metadata  =>    Dict{String, Any} with 3 entries\n",
       "  split     =>    :test\n",
       "  features  =>    28×28×10000 Array{Float32, 3}\n",
       "  targets   =>    10000-element Vector{Int64}"
      ]
     },
     "execution_count": 2,
     "metadata": {},
     "output_type": "execute_result"
    }
   ],
   "source": [
    "using MLDatasets\n",
    "train_data = MLDatasets.MNIST(split=:train)\n",
    "test_data  = MLDatasets.MNIST(split=:test)"
   ]
  },
  {
   "cell_type": "code",
   "execution_count": 3,
   "id": "11062760-9718-4fb7-93db-91dc38b3c3b7",
   "metadata": {},
   "outputs": [
    {
     "data": {
      "text/plain": [
       "loader (generic function with 1 method)"
      ]
     },
     "execution_count": 3,
     "metadata": {},
     "output_type": "execute_result"
    }
   ],
   "source": [
    "using Flux\n",
    "function loader(data; batchsize::Int=1)\n",
    "    x1dim = reshape(data.features, 28 * 28, :) # reshape 28×28 pixels into a vector of pixels\n",
    "    yhot  = Flux.onehotbatch(data.targets, 0:9) # make a 10×60000 OneHotMatrix\n",
    "    Flux.DataLoader((x1dim, yhot); batchsize, shuffle=true)\n",
    "end"
   ]
  },
  {
   "cell_type": "code",
   "execution_count": 4,
   "id": "7c5a1155-b2d3-4e06-be49-79aa186a5840",
   "metadata": {},
   "outputs": [
    {
     "data": {
      "text/plain": [
       "10000-element DataLoader(::Tuple{Matrix{Float32}, OneHotArrays.OneHotMatrix{UInt32, Vector{UInt32}}}, shuffle=true)\n",
       "  with first element:\n",
       "  (784×1 Matrix{Float32}, 10×1 OneHotMatrix(::Vector{UInt32}) with eltype Bool,)"
      ]
     },
     "execution_count": 4,
     "metadata": {},
     "output_type": "execute_result"
    }
   ],
   "source": [
    "train_loader = loader(train_data)\n",
    "test_loader = loader(test_data)"
   ]
  },
  {
   "cell_type": "code",
   "execution_count": 5,
   "id": "d24d1f19-9c5b-4e2b-8bad-575c4dd7142b",
   "metadata": {},
   "outputs": [
    {
     "data": {
      "text/plain": [
       "10"
      ]
     },
     "execution_count": 5,
     "metadata": {},
     "output_type": "execute_result"
    }
   ],
   "source": [
    "INPUT_SIZE = 196\n",
    "HIDDEN_SIZE = 64\n",
    "OUTPUT_SIZE = 10 "
   ]
  },
  {
   "cell_type": "code",
   "execution_count": 41,
   "id": "0634f179-d4cf-4306-b423-afdb8f32beeb",
   "metadata": {},
   "outputs": [
    {
     "data": {
      "text/plain": [
       "identity (generic function with 1 method)"
      ]
     },
     "execution_count": 41,
     "metadata": {},
     "output_type": "execute_result"
    }
   ],
   "source": [
    "hidden_activation = tanh\n",
    "output_activation = identity"
   ]
  },
  {
   "cell_type": "code",
   "execution_count": 87,
   "id": "a414ba42-89e9-43ea-b931-2da90f7834a3",
   "metadata": {},
   "outputs": [
    {
     "data": {
      "text/plain": [
       "1×10 Matrix{Float32}:\n",
       " 0.585381  -1.3694  1.72047  -0.455503  …  1.49037  0.318298  0.132169"
      ]
     },
     "execution_count": 87,
     "metadata": {},
     "output_type": "execute_result"
    }
   ],
   "source": [
    "input_to_hidden_weights = randn(Float32, INPUT_SIZE, HIDDEN_SIZE)\n",
    "hidden_to_hidden_weights = randn(Float32, HIDDEN_SIZE, HIDDEN_SIZE)\n",
    "hidden_to_output_weights = randn(Float32, HIDDEN_SIZE, OUTPUT_SIZE)\n",
    "\n",
    "hidden_bias = randn(Float32, 1, HIDDEN_SIZE)\n",
    "output_bias = randn(Float32, 1, OUTPUT_SIZE)"
   ]
  },
  {
   "cell_type": "code",
   "execution_count": 47,
   "id": "ec0f09d7-d28d-4a4d-87a0-81880c9ad6d5",
   "metadata": {},
   "outputs": [],
   "source": [
    "for (sample, label) in test_loader\n",
    "    s1 = hidden_activation.(transpose(sample[1:196]) * input_to_hidden_weights)\n",
    "    o1 = s1 * hidden_to_output_weights\n",
    "    \n",
    "    s2 = hidden_activation.(transpose(sample[197:392]) * input_to_hidden_weights + s1)\n",
    "    o2 = s2 * hidden_to_output_weights\n",
    "    \n",
    "    s3 = hidden_activation.(transpose(sample[393:588]) * input_to_hidden_weights + s2)\n",
    "    o3 = s3 * hidden_to_output_weights\n",
    "    \n",
    "    s4 = hidden_activation.(transpose(sample[589:784]) * input_to_hidden_weights + s3)\n",
    "    o4 = s4 * hidden_to_output_weights\n",
    "end"
   ]
  },
  {
   "cell_type": "code",
   "execution_count": 114,
   "id": "85b35be8-4b2e-4fb0-a2bb-660a26c573bf",
   "metadata": {},
   "outputs": [],
   "source": [
    "prev_hidden = transpose(zeros(HIDDEN_SIZE))\n",
    "\n",
    "for (sample, label) in test_loader\n",
    "    outputs = []\n",
    "    for i in range(1, step=196, stop=784)\n",
    "        lb = i\n",
    "        ub = i+195\n",
    "\n",
    "        x = transpose(sample[lb:ub])\n",
    "        xi = x * input_to_hidden_weights\n",
    "        xh = hidden_activation.(\n",
    "            xi + prev_hidden * hidden_to_hidden_weights + hidden_bias\n",
    "        )\n",
    "        prev_hidden = xh\n",
    "        xo = xh * hidden_to_output_weights + output_bias\n",
    "        push!(outputs, xo)\n",
    "    end\n",
    "    # println(last(outputs))\n",
    "    # println(label)\n",
    "    # println()\n",
    "end"
   ]
  },
  {
   "cell_type": "code",
   "execution_count": null,
   "id": "9c3bb57e-33ac-4746-aff1-127f967f02e7",
   "metadata": {},
   "outputs": [],
   "source": []
  }
 ],
 "metadata": {
  "kernelspec": {
   "display_name": "Julia 1.10.3",
   "language": "julia",
   "name": "julia-1.10"
  },
  "language_info": {
   "file_extension": ".jl",
   "mimetype": "application/julia",
   "name": "julia",
   "version": "1.10.3"
  }
 },
 "nbformat": 4,
 "nbformat_minor": 5
}
