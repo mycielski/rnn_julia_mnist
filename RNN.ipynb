{
 "cells": [
  {
   "cell_type": "markdown",
   "id": "090c31f7-b6f1-4745-90e8-0af5ee05a2e2",
   "metadata": {},
   "source": [
    "# Packages"
   ]
  },
  {
   "cell_type": "code",
   "execution_count": 1,
   "id": "da045d46-f088-4fb3-bbd3-7db22db55d3c",
   "metadata": {},
   "outputs": [
    {
     "name": "stderr",
     "output_type": "stream",
     "text": [
      "\u001b[32m\u001b[1m   Resolving\u001b[22m\u001b[39m package versions...\n",
      "\u001b[32m\u001b[1m  No Changes\u001b[22m\u001b[39m to `~/.julia/environments/v1.10/Project.toml`\n",
      "\u001b[32m\u001b[1m  No Changes\u001b[22m\u001b[39m to `~/.julia/environments/v1.10/Manifest.toml`\n",
      "\u001b[32m\u001b[1m   Resolving\u001b[22m\u001b[39m package versions...\n",
      "\u001b[32m\u001b[1m  No Changes\u001b[22m\u001b[39m to `~/.julia/environments/v1.10/Project.toml`\n",
      "\u001b[32m\u001b[1m  No Changes\u001b[22m\u001b[39m to `~/.julia/environments/v1.10/Manifest.toml`\n"
     ]
    },
    {
     "data": {
      "text/plain": [
       "backward (generic function with 9 methods)"
      ]
     },
     "execution_count": 1,
     "metadata": {},
     "output_type": "execute_result"
    }
   ],
   "source": [
    "using Pkg\n",
    "Pkg.add(\"MLDatasets\")\n",
    "Pkg.add(\"Flux\")\n",
    "\n",
    "include(\"graph.jl\")"
   ]
  },
  {
   "cell_type": "markdown",
   "id": "0f4d2533-a8bf-490c-bbbc-974fd05209c0",
   "metadata": {},
   "source": [
    "# Dataset"
   ]
  },
  {
   "cell_type": "code",
   "execution_count": 2,
   "id": "73178182-38fe-44fe-9b5f-450577c5b312",
   "metadata": {},
   "outputs": [
    {
     "data": {
      "text/plain": [
       "dataset MNIST:\n",
       "  metadata  =>    Dict{String, Any} with 3 entries\n",
       "  split     =>    :test\n",
       "  features  =>    28×28×10000 Array{Float32, 3}\n",
       "  targets   =>    10000-element Vector{Int64}"
      ]
     },
     "execution_count": 2,
     "metadata": {},
     "output_type": "execute_result"
    }
   ],
   "source": [
    "using MLDatasets\n",
    "train_data = MLDatasets.MNIST(split=:train)\n",
    "test_data  = MLDatasets.MNIST(split=:test)"
   ]
  },
  {
   "cell_type": "code",
   "execution_count": 3,
   "id": "11062760-9718-4fb7-93db-91dc38b3c3b7",
   "metadata": {},
   "outputs": [
    {
     "data": {
      "text/plain": [
       "loader (generic function with 1 method)"
      ]
     },
     "execution_count": 3,
     "metadata": {},
     "output_type": "execute_result"
    }
   ],
   "source": [
    "using Flux\n",
    "function loader(data; batchsize::Int=1)\n",
    "    x1dim = reshape(data.features, 28 * 28, :) # reshape 28×28 pixels into a vector of pixels\n",
    "    yhot  = Flux.onehotbatch(data.targets, 0:9) # make a 10×60000 OneHotMatrix\n",
    "    Flux.DataLoader((x1dim, yhot); batchsize, shuffle=true)\n",
    "end"
   ]
  },
  {
   "cell_type": "code",
   "execution_count": 4,
   "id": "7c5a1155-b2d3-4e06-be49-79aa186a5840",
   "metadata": {},
   "outputs": [
    {
     "data": {
      "text/plain": [
       "10000-element DataLoader(::Tuple{Matrix{Float32}, OneHotArrays.OneHotMatrix{UInt32, Vector{UInt32}}}, shuffle=true)\n",
       "  with first element:\n",
       "  (784×1 Matrix{Float32}, 10×1 OneHotMatrix(::Vector{UInt32}) with eltype Bool,)"
      ]
     },
     "execution_count": 4,
     "metadata": {},
     "output_type": "execute_result"
    }
   ],
   "source": [
    "train_loader = loader(train_data)\n",
    "test_loader = loader(test_data)"
   ]
  },
  {
   "cell_type": "markdown",
   "id": "fbfe0359-e1c6-49d7-af5f-3b5f170c6648",
   "metadata": {},
   "source": [
    "# Implemented operations"
   ]
  },
  {
   "cell_type": "markdown",
   "id": "0c33880a-c440-45eb-9c94-389cc83b7aa6",
   "metadata": {},
   "source": [
    "## Multiplication"
   ]
  },
  {
   "cell_type": "code",
   "execution_count": 87,
   "id": "034f0fa0-02d5-4152-880e-1a08574ff957",
   "metadata": {},
   "outputs": [
    {
     "data": {
      "text/plain": [
       "backward (generic function with 14 methods)"
      ]
     },
     "execution_count": 87,
     "metadata": {},
     "output_type": "execute_result"
    }
   ],
   "source": [
    "import Base: *\n",
    "import LinearAlgebra: mul!\n",
    "\n",
    "# x * y (aka matrix multiplication)\n",
    "*(A::GraphNode, x::GraphNode) = BroadcastedOperator(mul!, A, x)\n",
    "forward(::BroadcastedOperator{typeof(mul!)}, A, x) = return A * x\n",
    "backward(::BroadcastedOperator{typeof(mul!)}, A, x, g) = tuple(g * x', A' * g)\n",
    "\n",
    "# x .* y (element-wise multiplication)\n",
    "Base.Broadcast.broadcasted(*, x::GraphNode, y::GraphNode) = BroadcastedOperator(*, x, y)\n",
    "forward(::BroadcastedOperator{typeof(*)}, x, y) = return x .* y\n",
    "backward(node::BroadcastedOperator{typeof(*)}, x, y, g) = let\n",
    "    𝟏 = ones(length(node.output))\n",
    "    Jx = diagm(y .* 𝟏)\n",
    "    Jy = diagm(x .* 𝟏)\n",
    "    tuple(Jx' * g, Jy' * g)\n",
    "end"
   ]
  },
  {
   "cell_type": "markdown",
   "id": "94bde05b-7459-4e2c-b7e6-4cb18ffdfa77",
   "metadata": {},
   "source": [
    "## Addition"
   ]
  },
  {
   "cell_type": "code",
   "execution_count": 6,
   "id": "057555ea-2d8c-4468-b045-92805c3edb04",
   "metadata": {},
   "outputs": [
    {
     "data": {
      "text/plain": [
       "backward (generic function with 9 methods)"
      ]
     },
     "execution_count": 6,
     "metadata": {},
     "output_type": "execute_result"
    }
   ],
   "source": [
    "Base.Broadcast.broadcasted(+, x::GraphNode, y::GraphNode) = BroadcastedOperator(+, x, y)\n",
    "forward(::BroadcastedOperator{typeof(+)}, x, y) = return x .+ y\n",
    "backward(::BroadcastedOperator{typeof(+)}, x, y, g) = let\n",
    "    println(\"ADD\")\n",
    "    return tuple(g, g)\n",
    "end"
   ]
  },
  {
   "cell_type": "markdown",
   "id": "1baa0548-9c76-41e8-853d-4375a3b378ca",
   "metadata": {},
   "source": [
    "## Summation"
   ]
  },
  {
   "cell_type": "code",
   "execution_count": 38,
   "id": "26d41a35-d1d3-4e9e-ac41-0e37142a20ee",
   "metadata": {},
   "outputs": [
    {
     "data": {
      "text/plain": [
       "backward (generic function with 14 methods)"
      ]
     },
     "execution_count": 38,
     "metadata": {},
     "output_type": "execute_result"
    }
   ],
   "source": [
    "import Base: sum\n",
    "sum(x::GraphNode) = BroadcastedOperator(sum, x)\n",
    "forward(::BroadcastedOperator{typeof(sum)}, x) = let\n",
    "    println(\"SUM_FWD\")\n",
    "    display(x)\n",
    "    return sum(x)\n",
    "end\n",
    "backward(::BroadcastedOperator{typeof(sum)}, x, g) = let\n",
    "    println(\"SUM\")\n",
    "    println(\"x: \")\n",
    "    display(x)\n",
    "    𝟏 = ones(Float32, size(x))\n",
    "    println(\"1:\")\n",
    "    display(𝟏)\n",
    "    tuple(𝟏 .* g)\n",
    "end"
   ]
  },
  {
   "cell_type": "markdown",
   "id": "c50f6600-6d26-470a-bd53-3f59ba53563a",
   "metadata": {},
   "source": [
    "## Tanh"
   ]
  },
  {
   "cell_type": "code",
   "execution_count": 8,
   "id": "c381f62e-e674-4ec0-80bc-eda14c4541c9",
   "metadata": {},
   "outputs": [
    {
     "data": {
      "text/plain": [
       "backward (generic function with 10 methods)"
      ]
     },
     "execution_count": 8,
     "metadata": {},
     "output_type": "execute_result"
    }
   ],
   "source": [
    "import Base: tanh\n",
    "\n",
    "tanh(x::GraphNode) = ScalarOperator(tanh, x)\n",
    "forward(::ScalarOperator{typeof(tanh)}, x) = return tanh.(x)\n",
    "backward(::ScalarOperator{typeof(tanh)}, x, g) = let\n",
    "    println(\"TANH\")\n",
    "    return tuple((1 - tanh(x)^2) * g)\n",
    "end"
   ]
  },
  {
   "cell_type": "markdown",
   "id": "92ded240-a0f4-48ca-96f5-e72891bdad79",
   "metadata": {},
   "source": [
    "## Log"
   ]
  },
  {
   "cell_type": "code",
   "execution_count": 9,
   "id": "43d6d16b-fcd4-440b-818f-c624da91f1cb",
   "metadata": {},
   "outputs": [
    {
     "data": {
      "text/plain": [
       "backward (generic function with 11 methods)"
      ]
     },
     "execution_count": 9,
     "metadata": {},
     "output_type": "execute_result"
    }
   ],
   "source": [
    "import Base: log\n",
    "Base.Broadcast.broadcasted(log, x::GraphNode) = BroadcastedOperator(log, x)\n",
    "forward(::BroadcastedOperator{typeof(log)}, x) = return log.(x)\n",
    "backward(::BroadcastedOperator{typeof(log)}, x, g) = let\n",
    "    println(\"LOG\")\n",
    "    tuple(g ./ x)\n",
    "end"
   ]
  },
  {
   "cell_type": "markdown",
   "id": "6bef0dad-e00b-4f43-a5e8-787f3bf6ebae",
   "metadata": {},
   "source": [
    "## Subtraction"
   ]
  },
  {
   "cell_type": "code",
   "execution_count": 10,
   "id": "2c5e0c05-2d88-46d0-80ba-7317f71e3d07",
   "metadata": {},
   "outputs": [
    {
     "data": {
      "text/plain": [
       "backward (generic function with 12 methods)"
      ]
     },
     "execution_count": 10,
     "metadata": {},
     "output_type": "execute_result"
    }
   ],
   "source": [
    "import Base: -\n",
    "-(x::GraphNode) = ScalarOperator(-, x)\n",
    "forward(::ScalarOperator{typeof(-)}, x) = return .-x\n",
    "backward(::ScalarOperator{typeof(-)}, x, g) = tuple(-g)\n",
    "\n",
    "Base.Broadcast.broadcasted(-, x::GraphNode, y::GraphNode) = BroadcastedOperator(-, x, y)\n",
    "forward(::BroadcastedOperator{typeof(-)}, x, y) = return x .- y\n",
    "backward(::BroadcastedOperator{typeof(-)}, x, y, g) = let\n",
    "    println(\"SUB\")\n",
    "    tuple(g,-g)\n",
    "end"
   ]
  },
  {
   "cell_type": "markdown",
   "id": "49367bd6-cffd-463f-98fa-5032a9a84551",
   "metadata": {},
   "source": [
    "## Exp"
   ]
  },
  {
   "cell_type": "code",
   "execution_count": 11,
   "id": "51f1882a-dbbf-45ac-8b15-8b244e14c204",
   "metadata": {},
   "outputs": [
    {
     "data": {
      "text/plain": [
       "backward (generic function with 13 methods)"
      ]
     },
     "execution_count": 11,
     "metadata": {},
     "output_type": "execute_result"
    }
   ],
   "source": [
    "import Base: exp \n",
    "Base.Broadcast.broadcasted(exp, x::GraphNode) = BroadcastedOperator(exp, x)\n",
    "forward(::BroadcastedOperator{typeof(exp)}, x) = return exp.(x)\n",
    "backward(::BroadcastedOperator{typeof(exp)}, x, g) = let\n",
    "    println(\"EXP\")\n",
    "    tuple(exp.(x) .* g)\n",
    "end"
   ]
  },
  {
   "cell_type": "markdown",
   "id": "728d082c-d639-4ebd-8707-eab6b55ea241",
   "metadata": {},
   "source": [
    "## Softmax"
   ]
  },
  {
   "cell_type": "code",
   "execution_count": 12,
   "id": "bb9fee97-8372-40ff-ae62-33fb7efa33b5",
   "metadata": {},
   "outputs": [
    {
     "data": {
      "text/plain": [
       "backward (generic function with 14 methods)"
      ]
     },
     "execution_count": 12,
     "metadata": {},
     "output_type": "execute_result"
    }
   ],
   "source": [
    "Softmax(x::GraphNode) = BroadcastedOperator(Softmax, x)\n",
    "forward(::BroadcastedOperator{typeof(Softmax)}, x) = return exp.(x) ./ sum(exp.(x))\n",
    "backward(node::BroadcastedOperator{typeof(Softmax)}, x, g) = let\n",
    "    println(\"SOFTMAX\")\n",
    "    y = node.output\n",
    "    J = diagm(y) .- y * y'\n",
    "    tuple(J' * g)\n",
    "end"
   ]
  },
  {
   "cell_type": "markdown",
   "id": "eb9938a2-b0ae-42ad-9d63-1ef4b31ac38c",
   "metadata": {},
   "source": [
    "## Division"
   ]
  },
  {
   "cell_type": "code",
   "execution_count": 13,
   "id": "0acb4165-9313-475c-9a27-853afa6d7d06",
   "metadata": {},
   "outputs": [
    {
     "data": {
      "text/plain": [
       "backward (generic function with 14 methods)"
      ]
     },
     "execution_count": 13,
     "metadata": {},
     "output_type": "execute_result"
    }
   ],
   "source": [
    "Base.Broadcast.broadcasted(/, x::GraphNode, y::GraphNode) = BroadcastedOperator(/, x, y)\n",
    "forward(::BroadcastedOperator{typeof(/)}, x, y) = return x ./ y\n",
    "backward(node::BroadcastedOperator{typeof(/)}, x, y::Real, g) = let\n",
    "    println(\"DIV\")\n",
    "    𝟏 = ones(Float32, length(node.output))\n",
    "    Jx = diagm(𝟏 ./ y)\n",
    "    Jy = (-x ./ y .^2)\n",
    "    tuple(Jx' * g, Jy' * g)\n",
    "end"
   ]
  },
  {
   "cell_type": "markdown",
   "id": "f1ab3631-3b7d-4b3f-8be7-062a4b2d0c06",
   "metadata": {},
   "source": [
    "# Net"
   ]
  },
  {
   "cell_type": "code",
   "execution_count": 14,
   "id": "5ccd74db-00ca-43aa-97e9-b2b28d7a3bb0",
   "metadata": {},
   "outputs": [
    {
     "data": {
      "text/plain": [
       "4"
      ]
     },
     "execution_count": 14,
     "metadata": {},
     "output_type": "execute_result"
    }
   ],
   "source": [
    "INPUT_SIZE = 196\n",
    "HIDDEN_SIZE = 64\n",
    "OUTPUT_SIZE = 10\n",
    "\n",
    "STEP_COUNT = 4"
   ]
  },
  {
   "cell_type": "code",
   "execution_count": 15,
   "id": "f6ac8067-2e23-4633-8148-ee5693357459",
   "metadata": {},
   "outputs": [
    {
     "data": {
      "text/plain": [
       "var wo\n",
       " ┣━ ^ 64×10 Matrix{Float64}\n",
       " ┗━ ∇ Nothing"
      ]
     },
     "execution_count": 15,
     "metadata": {},
     "output_type": "execute_result"
    }
   ],
   "source": [
    "using LinearAlgebra\n",
    "\n",
    "bound = 1/sqrt(HIDDEN_SIZE)  # read somewhere that this is a good way to init weights for tanh\n",
    "\n",
    "Wi = Variable(bound .* rand(INPUT_SIZE, HIDDEN_SIZE), name=\"wi\")\n",
    "Wh = Variable(bound .* rand(HIDDEN_SIZE, HIDDEN_SIZE), name=\"wh\")\n",
    "Wo = Variable(randn(HIDDEN_SIZE, OUTPUT_SIZE), name=\"wo\")"
   ]
  },
  {
   "cell_type": "code",
   "execution_count": 77,
   "id": "52793640-9afc-4054-8fc0-6d3bc1fb7445",
   "metadata": {},
   "outputs": [
    {
     "data": {
      "text/plain": [
       "cross_entropy_loss (generic function with 1 method)"
      ]
     },
     "execution_count": 77,
     "metadata": {},
     "output_type": "execute_result"
    }
   ],
   "source": [
    "function cross_entropy_loss(prediction, label)\n",
    "    return sum(Constant(-1) .* label .* log.(prediction))\n",
    "end"
   ]
  },
  {
   "cell_type": "code",
   "execution_count": 78,
   "id": "34ecffa9-d469-4648-92f2-0e1c3dccc036",
   "metadata": {},
   "outputs": [
    {
     "name": "stdout",
     "output_type": "stream",
     "text": [
      "xy MUL x:\n"
     ]
    },
    {
     "data": {
      "text/plain": [
       "-1"
      ]
     },
     "metadata": {},
     "output_type": "display_data"
    },
    {
     "name": "stdout",
     "output_type": "stream",
     "text": [
      "xy MUL y:\n"
     ]
    },
    {
     "data": {
      "text/plain": [
       "1×10 adjoint(OneHotMatrix(::Vector{UInt32})) with eltype Bool:\n",
       " ⋅  ⋅  1  ⋅  ⋅  ⋅  ⋅  ⋅  ⋅  ⋅"
      ]
     },
     "metadata": {},
     "output_type": "display_data"
    },
    {
     "name": "stdout",
     "output_type": "stream",
     "text": [
      "Ax MUL A:\n"
     ]
    },
    {
     "data": {
      "text/plain": [
       "1×196 transpose(::Vector{Float32}) with eltype Float32:\n",
       " 0.0  0.0  0.0  0.0  0.992157  0.988235  …  0.0  0.0  0.0  0.0  0.0  0.0  0.0"
      ]
     },
     "metadata": {},
     "output_type": "display_data"
    },
    {
     "name": "stdout",
     "output_type": "stream",
     "text": [
      "Ax MUL x:\n"
     ]
    },
    {
     "data": {
      "text/plain": [
       "196×64 Matrix{Float64}:\n",
       " 0.0304327   0.0690618  0.0506888   …  0.0641123   0.00242877  0.0850739\n",
       " 0.113224    0.109251   0.0159016      0.0843462   0.122879    0.0960529\n",
       " 0.0337808   0.0842965  0.0394637      0.0357925   0.107245    0.0620308\n",
       " 0.0252732   0.100767   0.0598819      0.00541035  0.0189774   0.118941\n",
       " 0.00803884  0.0987203  0.0437645      0.0399419   0.104393    0.0497051\n",
       " 0.0296385   0.108659   0.115907    …  0.0819186   0.0511352   0.123874\n",
       " 0.039099    0.0745427  0.0463541      0.0314367   0.0103932   0.0393173\n",
       " 0.0483966   0.0595271  0.00622421     0.112435    0.119857    0.0902706\n",
       " 0.0450593   0.110979   0.0813287      0.0914159   0.034374    0.106267\n",
       " 0.0742788   0.0459861  0.0315831      0.0872023   0.105413    0.0654476\n",
       " 0.00077064  0.0623376  0.108166    …  0.0640638   0.0183233   0.0216957\n",
       " 0.0555468   0.0711175  0.0848264      0.0622482   0.0466525   0.123737\n",
       " 0.100259    0.0283314  0.0144103      0.0972441   0.0957441   0.105552\n",
       " ⋮                                  ⋱                          \n",
       " 0.0552627   0.0655817  0.0698736      0.00908709  0.0054468   0.0175919\n",
       " 0.0824061   0.108174   0.0639666   …  0.0803973   0.105285    0.107621\n",
       " 0.0246337   0.0714875  0.122783       0.0222015   0.0214828   0.0781274\n",
       " 0.10974     0.034322   0.0347606      0.0935592   0.0689742   0.0855726\n",
       " 0.0572808   0.0139869  0.0459127      0.0492482   0.0760558   0.00836391\n",
       " 0.0841703   0.0975779  0.0442633      0.0156194   0.0935243   0.118699\n",
       " 0.0863386   0.0320959  0.117716    …  0.0896846   0.110712    0.0840296\n",
       " 0.117078    0.0495675  0.0915831      0.0643035   0.0157958   0.102724\n",
       " 0.0723271   0.0804108  0.083979       0.0680856   0.0101297   0.0115227\n",
       " 0.0687215   0.0505525  0.100278       0.0475549   0.0437901   0.0412072\n",
       " 0.0497273   0.10283    0.0709516      0.0488065   0.0676204   0.115166\n",
       " 0.0435277   0.065743   0.0207508   …  0.0480436   0.10216     0.0337165"
      ]
     },
     "metadata": {},
     "output_type": "display_data"
    },
    {
     "name": "stdout",
     "output_type": "stream",
     "text": [
      "Ax MUL A:\n"
     ]
    },
    {
     "data": {
      "text/plain": [
       "1×196 transpose(::Vector{Float32}) with eltype Float32:\n",
       " 0.0  0.0  0.0  0.0  0.0  0.0  0.0  0.0  …  0.278431  0.0  0.0  0.0  0.0  0.0"
      ]
     },
     "metadata": {},
     "output_type": "display_data"
    },
    {
     "name": "stdout",
     "output_type": "stream",
     "text": [
      "Ax MUL x:\n"
     ]
    },
    {
     "data": {
      "text/plain": [
       "196×64 Matrix{Float64}:\n",
       " 0.0304327   0.0690618  0.0506888   …  0.0641123   0.00242877  0.0850739\n",
       " 0.113224    0.109251   0.0159016      0.0843462   0.122879    0.0960529\n",
       " 0.0337808   0.0842965  0.0394637      0.0357925   0.107245    0.0620308\n",
       " 0.0252732   0.100767   0.0598819      0.00541035  0.0189774   0.118941\n",
       " 0.00803884  0.0987203  0.0437645      0.0399419   0.104393    0.0497051\n",
       " 0.0296385   0.108659   0.115907    …  0.0819186   0.0511352   0.123874\n",
       " 0.039099    0.0745427  0.0463541      0.0314367   0.0103932   0.0393173\n",
       " 0.0483966   0.0595271  0.00622421     0.112435    0.119857    0.0902706\n",
       " 0.0450593   0.110979   0.0813287      0.0914159   0.034374    0.106267\n",
       " 0.0742788   0.0459861  0.0315831      0.0872023   0.105413    0.0654476\n",
       " 0.00077064  0.0623376  0.108166    …  0.0640638   0.0183233   0.0216957\n",
       " 0.0555468   0.0711175  0.0848264      0.0622482   0.0466525   0.123737\n",
       " 0.100259    0.0283314  0.0144103      0.0972441   0.0957441   0.105552\n",
       " ⋮                                  ⋱                          \n",
       " 0.0552627   0.0655817  0.0698736      0.00908709  0.0054468   0.0175919\n",
       " 0.0824061   0.108174   0.0639666   …  0.0803973   0.105285    0.107621\n",
       " 0.0246337   0.0714875  0.122783       0.0222015   0.0214828   0.0781274\n",
       " 0.10974     0.034322   0.0347606      0.0935592   0.0689742   0.0855726\n",
       " 0.0572808   0.0139869  0.0459127      0.0492482   0.0760558   0.00836391\n",
       " 0.0841703   0.0975779  0.0442633      0.0156194   0.0935243   0.118699\n",
       " 0.0863386   0.0320959  0.117716    …  0.0896846   0.110712    0.0840296\n",
       " 0.117078    0.0495675  0.0915831      0.0643035   0.0157958   0.102724\n",
       " 0.0723271   0.0804108  0.083979       0.0680856   0.0101297   0.0115227\n",
       " 0.0687215   0.0505525  0.100278       0.0475549   0.0437901   0.0412072\n",
       " 0.0497273   0.10283    0.0709516      0.0488065   0.0676204   0.115166\n",
       " 0.0435277   0.065743   0.0207508   …  0.0480436   0.10216     0.0337165"
      ]
     },
     "metadata": {},
     "output_type": "display_data"
    },
    {
     "name": "stdout",
     "output_type": "stream",
     "text": [
      "Ax MUL A:\n"
     ]
    },
    {
     "data": {
      "text/plain": [
       "1×196 transpose(::Vector{Float32}) with eltype Float32:\n",
       " 0.0  0.0  0.0  0.0  0.0  0.0  0.0  0.0  …  0.0  0.0  0.0  0.0  0.0  0.0  0.0"
      ]
     },
     "metadata": {},
     "output_type": "display_data"
    },
    {
     "name": "stdout",
     "output_type": "stream",
     "text": [
      "Ax MUL x:\n"
     ]
    },
    {
     "data": {
      "text/plain": [
       "196×64 Matrix{Float64}:\n",
       " 0.0304327   0.0690618  0.0506888   …  0.0641123   0.00242877  0.0850739\n",
       " 0.113224    0.109251   0.0159016      0.0843462   0.122879    0.0960529\n",
       " 0.0337808   0.0842965  0.0394637      0.0357925   0.107245    0.0620308\n",
       " 0.0252732   0.100767   0.0598819      0.00541035  0.0189774   0.118941\n",
       " 0.00803884  0.0987203  0.0437645      0.0399419   0.104393    0.0497051\n",
       " 0.0296385   0.108659   0.115907    …  0.0819186   0.0511352   0.123874\n",
       " 0.039099    0.0745427  0.0463541      0.0314367   0.0103932   0.0393173\n",
       " 0.0483966   0.0595271  0.00622421     0.112435    0.119857    0.0902706\n",
       " 0.0450593   0.110979   0.0813287      0.0914159   0.034374    0.106267\n",
       " 0.0742788   0.0459861  0.0315831      0.0872023   0.105413    0.0654476\n",
       " 0.00077064  0.0623376  0.108166    …  0.0640638   0.0183233   0.0216957\n",
       " 0.0555468   0.0711175  0.0848264      0.0622482   0.0466525   0.123737\n",
       " 0.100259    0.0283314  0.0144103      0.0972441   0.0957441   0.105552\n",
       " ⋮                                  ⋱                          \n",
       " 0.0552627   0.0655817  0.0698736      0.00908709  0.0054468   0.0175919\n",
       " 0.0824061   0.108174   0.0639666   …  0.0803973   0.105285    0.107621\n",
       " 0.0246337   0.0714875  0.122783       0.0222015   0.0214828   0.0781274\n",
       " 0.10974     0.034322   0.0347606      0.0935592   0.0689742   0.0855726\n",
       " 0.0572808   0.0139869  0.0459127      0.0492482   0.0760558   0.00836391\n",
       " 0.0841703   0.0975779  0.0442633      0.0156194   0.0935243   0.118699\n",
       " 0.0863386   0.0320959  0.117716    …  0.0896846   0.110712    0.0840296\n",
       " 0.117078    0.0495675  0.0915831      0.0643035   0.0157958   0.102724\n",
       " 0.0723271   0.0804108  0.083979       0.0680856   0.0101297   0.0115227\n",
       " 0.0687215   0.0505525  0.100278       0.0475549   0.0437901   0.0412072\n",
       " 0.0497273   0.10283    0.0709516      0.0488065   0.0676204   0.115166\n",
       " 0.0435277   0.065743   0.0207508   …  0.0480436   0.10216     0.0337165"
      ]
     },
     "metadata": {},
     "output_type": "display_data"
    },
    {
     "name": "stdout",
     "output_type": "stream",
     "text": [
      "Ax MUL A:\n"
     ]
    },
    {
     "data": {
      "text/plain": [
       "1×196 transpose(::Vector{Float32}) with eltype Float32:\n",
       " 0.0  0.0  0.0  0.0  0.0  0.0  0.0  0.0  0.0  …  0.0  0.0  0.0  0.0  0.0  0.0"
      ]
     },
     "metadata": {},
     "output_type": "display_data"
    },
    {
     "name": "stdout",
     "output_type": "stream",
     "text": [
      "Ax MUL x:\n"
     ]
    },
    {
     "data": {
      "text/plain": [
       "196×64 Matrix{Float64}:\n",
       " 0.0304327   0.0690618  0.0506888   …  0.0641123   0.00242877  0.0850739\n",
       " 0.113224    0.109251   0.0159016      0.0843462   0.122879    0.0960529\n",
       " 0.0337808   0.0842965  0.0394637      0.0357925   0.107245    0.0620308\n",
       " 0.0252732   0.100767   0.0598819      0.00541035  0.0189774   0.118941\n",
       " 0.00803884  0.0987203  0.0437645      0.0399419   0.104393    0.0497051\n",
       " 0.0296385   0.108659   0.115907    …  0.0819186   0.0511352   0.123874\n",
       " 0.039099    0.0745427  0.0463541      0.0314367   0.0103932   0.0393173\n",
       " 0.0483966   0.0595271  0.00622421     0.112435    0.119857    0.0902706\n",
       " 0.0450593   0.110979   0.0813287      0.0914159   0.034374    0.106267\n",
       " 0.0742788   0.0459861  0.0315831      0.0872023   0.105413    0.0654476\n",
       " 0.00077064  0.0623376  0.108166    …  0.0640638   0.0183233   0.0216957\n",
       " 0.0555468   0.0711175  0.0848264      0.0622482   0.0466525   0.123737\n",
       " 0.100259    0.0283314  0.0144103      0.0972441   0.0957441   0.105552\n",
       " ⋮                                  ⋱                          \n",
       " 0.0552627   0.0655817  0.0698736      0.00908709  0.0054468   0.0175919\n",
       " 0.0824061   0.108174   0.0639666   …  0.0803973   0.105285    0.107621\n",
       " 0.0246337   0.0714875  0.122783       0.0222015   0.0214828   0.0781274\n",
       " 0.10974     0.034322   0.0347606      0.0935592   0.0689742   0.0855726\n",
       " 0.0572808   0.0139869  0.0459127      0.0492482   0.0760558   0.00836391\n",
       " 0.0841703   0.0975779  0.0442633      0.0156194   0.0935243   0.118699\n",
       " 0.0863386   0.0320959  0.117716    …  0.0896846   0.110712    0.0840296\n",
       " 0.117078    0.0495675  0.0915831      0.0643035   0.0157958   0.102724\n",
       " 0.0723271   0.0804108  0.083979       0.0680856   0.0101297   0.0115227\n",
       " 0.0687215   0.0505525  0.100278       0.0475549   0.0437901   0.0412072\n",
       " 0.0497273   0.10283    0.0709516      0.0488065   0.0676204   0.115166\n",
       " 0.0435277   0.065743   0.0207508   …  0.0480436   0.10216     0.0337165"
      ]
     },
     "metadata": {},
     "output_type": "display_data"
    },
    {
     "name": "stdout",
     "output_type": "stream",
     "text": [
      "Ax MUL A:\n"
     ]
    },
    {
     "data": {
      "text/plain": [
       "1×64 Matrix{Float64}:\n",
       " 0.797119  0.824287  0.883752  0.805685  …  0.828911  0.874194  0.826445"
      ]
     },
     "metadata": {},
     "output_type": "display_data"
    },
    {
     "name": "stdout",
     "output_type": "stream",
     "text": [
      "Ax MUL x:\n"
     ]
    },
    {
     "data": {
      "text/plain": [
       "64×64 Matrix{Float64}:\n",
       " 0.0639274   0.0905363   0.0706276   …  0.0747666   0.0183594   0.10817\n",
       " 0.0889023   0.0231719   0.0746507      0.0340268   0.0568271   0.107503\n",
       " 0.0846382   0.0197928   0.0686405      0.0940777   0.0320004   0.0910258\n",
       " 0.0565107   0.114285    0.00957795     0.114657    0.0770781   0.00440119\n",
       " 0.0713441   0.0298513   0.0335321      0.0501846   0.0517012   0.0790391\n",
       " 0.0762887   0.114771    0.0925048   …  0.0812257   0.0555651   0.0963269\n",
       " 0.0842594   0.00593419  0.0903976      0.0204095   0.0419067   0.0601329\n",
       " 0.0706046   0.0397648   0.0901694      0.037765    0.116477    0.0322432\n",
       " 0.0766536   0.107443    0.0902471      0.0616452   0.0534763   0.00285245\n",
       " 0.0871677   0.0383124   0.0233348      0.0841025   0.00986813  0.0625841\n",
       " 0.00729231  0.0121733   0.0519198   …  0.0622069   0.0158511   0.116336\n",
       " 0.103651    0.0542458   0.079765       0.0326171   0.0694933   0.0126675\n",
       " 0.104624    0.00857396  0.092909       0.0716568   0.122432    0.046267\n",
       " ⋮                                   ⋱                          \n",
       " 0.124864    0.0754676   0.0365721      0.080674    0.0663229   0.0652202\n",
       " 0.0609808   0.060925    0.110067       0.047774    0.0844455   0.0760037\n",
       " 0.103668    0.0901631   0.124033       0.00194566  0.0614468   0.0745493\n",
       " 0.118491    0.067569    0.05618     …  0.109007    0.0471672   0.0293669\n",
       " 0.0638343   0.035782    0.0552242      0.0825821   0.0377484   0.122956\n",
       " 0.0155298   0.0713952   0.111679       0.117678    0.00464826  0.0134973\n",
       " 0.0750884   0.0303756   0.0060618      0.0104072   0.0456426   0.0562126\n",
       " 0.0537611   0.0909712   0.052172       0.0531225   0.101527    0.0627181\n",
       " 0.0757679   0.0126488   0.0466038   …  0.0195993   0.0306187   0.0354581\n",
       " 0.0941208   0.0167434   0.0651587      0.0827159   0.0139227   0.0406086\n",
       " 0.0429402   0.071925    0.0871815      0.0544995   0.0286802   0.0844648\n",
       " 0.0308634   0.0888156   0.110926       0.0388015   0.00761148  0.118905"
      ]
     },
     "metadata": {},
     "output_type": "display_data"
    },
    {
     "name": "stdout",
     "output_type": "stream",
     "text": [
      "Ax MUL A:\n"
     ]
    },
    {
     "data": {
      "text/plain": [
       "1×64 Matrix{Float64}:\n",
       " 0.999996  0.999989  0.999999  0.999998  …  0.999995  0.999995  0.999994"
      ]
     },
     "metadata": {},
     "output_type": "display_data"
    },
    {
     "name": "stdout",
     "output_type": "stream",
     "text": [
      "Ax MUL x:\n"
     ]
    },
    {
     "data": {
      "text/plain": [
       "64×64 Matrix{Float64}:\n",
       " 0.0639274   0.0905363   0.0706276   …  0.0747666   0.0183594   0.10817\n",
       " 0.0889023   0.0231719   0.0746507      0.0340268   0.0568271   0.107503\n",
       " 0.0846382   0.0197928   0.0686405      0.0940777   0.0320004   0.0910258\n",
       " 0.0565107   0.114285    0.00957795     0.114657    0.0770781   0.00440119\n",
       " 0.0713441   0.0298513   0.0335321      0.0501846   0.0517012   0.0790391\n",
       " 0.0762887   0.114771    0.0925048   …  0.0812257   0.0555651   0.0963269\n",
       " 0.0842594   0.00593419  0.0903976      0.0204095   0.0419067   0.0601329\n",
       " 0.0706046   0.0397648   0.0901694      0.037765    0.116477    0.0322432\n",
       " 0.0766536   0.107443    0.0902471      0.0616452   0.0534763   0.00285245\n",
       " 0.0871677   0.0383124   0.0233348      0.0841025   0.00986813  0.0625841\n",
       " 0.00729231  0.0121733   0.0519198   …  0.0622069   0.0158511   0.116336\n",
       " 0.103651    0.0542458   0.079765       0.0326171   0.0694933   0.0126675\n",
       " 0.104624    0.00857396  0.092909       0.0716568   0.122432    0.046267\n",
       " ⋮                                   ⋱                          \n",
       " 0.124864    0.0754676   0.0365721      0.080674    0.0663229   0.0652202\n",
       " 0.0609808   0.060925    0.110067       0.047774    0.0844455   0.0760037\n",
       " 0.103668    0.0901631   0.124033       0.00194566  0.0614468   0.0745493\n",
       " 0.118491    0.067569    0.05618     …  0.109007    0.0471672   0.0293669\n",
       " 0.0638343   0.035782    0.0552242      0.0825821   0.0377484   0.122956\n",
       " 0.0155298   0.0713952   0.111679       0.117678    0.00464826  0.0134973\n",
       " 0.0750884   0.0303756   0.0060618      0.0104072   0.0456426   0.0562126\n",
       " 0.0537611   0.0909712   0.052172       0.0531225   0.101527    0.0627181\n",
       " 0.0757679   0.0126488   0.0466038   …  0.0195993   0.0306187   0.0354581\n",
       " 0.0941208   0.0167434   0.0651587      0.0827159   0.0139227   0.0406086\n",
       " 0.0429402   0.071925    0.0871815      0.0544995   0.0286802   0.0844648\n",
       " 0.0308634   0.0888156   0.110926       0.0388015   0.00761148  0.118905"
      ]
     },
     "metadata": {},
     "output_type": "display_data"
    },
    {
     "name": "stdout",
     "output_type": "stream",
     "text": [
      "Ax MUL A:\n"
     ]
    },
    {
     "data": {
      "text/plain": [
       "1×64 Matrix{Float64}:\n",
       " 1.0  0.999999  1.0  1.0  1.0  1.0  1.0  …  0.999999  1.0  1.0  1.0  1.0  1.0"
      ]
     },
     "metadata": {},
     "output_type": "display_data"
    },
    {
     "name": "stdout",
     "output_type": "stream",
     "text": [
      "Ax MUL x:\n"
     ]
    },
    {
     "data": {
      "text/plain": [
       "64×64 Matrix{Float64}:\n",
       " 0.0639274   0.0905363   0.0706276   …  0.0747666   0.0183594   0.10817\n",
       " 0.0889023   0.0231719   0.0746507      0.0340268   0.0568271   0.107503\n",
       " 0.0846382   0.0197928   0.0686405      0.0940777   0.0320004   0.0910258\n",
       " 0.0565107   0.114285    0.00957795     0.114657    0.0770781   0.00440119\n",
       " 0.0713441   0.0298513   0.0335321      0.0501846   0.0517012   0.0790391\n",
       " 0.0762887   0.114771    0.0925048   …  0.0812257   0.0555651   0.0963269\n",
       " 0.0842594   0.00593419  0.0903976      0.0204095   0.0419067   0.0601329\n",
       " 0.0706046   0.0397648   0.0901694      0.037765    0.116477    0.0322432\n",
       " 0.0766536   0.107443    0.0902471      0.0616452   0.0534763   0.00285245\n",
       " 0.0871677   0.0383124   0.0233348      0.0841025   0.00986813  0.0625841\n",
       " 0.00729231  0.0121733   0.0519198   …  0.0622069   0.0158511   0.116336\n",
       " 0.103651    0.0542458   0.079765       0.0326171   0.0694933   0.0126675\n",
       " 0.104624    0.00857396  0.092909       0.0716568   0.122432    0.046267\n",
       " ⋮                                   ⋱                          \n",
       " 0.124864    0.0754676   0.0365721      0.080674    0.0663229   0.0652202\n",
       " 0.0609808   0.060925    0.110067       0.047774    0.0844455   0.0760037\n",
       " 0.103668    0.0901631   0.124033       0.00194566  0.0614468   0.0745493\n",
       " 0.118491    0.067569    0.05618     …  0.109007    0.0471672   0.0293669\n",
       " 0.0638343   0.035782    0.0552242      0.0825821   0.0377484   0.122956\n",
       " 0.0155298   0.0713952   0.111679       0.117678    0.00464826  0.0134973\n",
       " 0.0750884   0.0303756   0.0060618      0.0104072   0.0456426   0.0562126\n",
       " 0.0537611   0.0909712   0.052172       0.0531225   0.101527    0.0627181\n",
       " 0.0757679   0.0126488   0.0466038   …  0.0195993   0.0306187   0.0354581\n",
       " 0.0941208   0.0167434   0.0651587      0.0827159   0.0139227   0.0406086\n",
       " 0.0429402   0.071925    0.0871815      0.0544995   0.0286802   0.0844648\n",
       " 0.0308634   0.0888156   0.110926       0.0388015   0.00761148  0.118905"
      ]
     },
     "metadata": {},
     "output_type": "display_data"
    },
    {
     "name": "stdout",
     "output_type": "stream",
     "text": [
      "Ax MUL A:\n"
     ]
    },
    {
     "data": {
      "text/plain": [
       "1×64 Matrix{Float64}:\n",
       " 0.999968  0.999924  0.999984  0.999976  …  0.999949  0.999925  0.999975"
      ]
     },
     "metadata": {},
     "output_type": "display_data"
    },
    {
     "name": "stdout",
     "output_type": "stream",
     "text": [
      "Ax MUL x:\n"
     ]
    },
    {
     "data": {
      "text/plain": [
       "64×10 Matrix{Float64}:\n",
       "  1.15144     -0.40001     0.232525   …  -0.0892798   1.57632   -0.495668\n",
       "  0.049746    -0.887612   -1.32883        1.11027     1.24757    1.0812\n",
       " -0.612986     0.228951    0.12828        1.94442    -1.28154   -0.0323962\n",
       "  0.228032     0.398862    0.7913         0.0390806   0.120643   1.70973\n",
       " -1.24985     -1.12473    -1.85214       -0.334245   -0.294998  -0.955993\n",
       "  0.442234    -0.111571    0.223134   …  -0.470594    0.572351  -0.399368\n",
       "  0.00259773   0.202605   -1.09072        1.29724    -1.33476    0.848125\n",
       "  0.910998     0.427703   -0.648541      -0.561135    0.281861  -2.71355\n",
       " -1.36184      0.339811    0.309479       2.17584    -1.50443   -0.622939\n",
       " -0.366944    -0.745275   -0.564239      -1.82825     0.181382   0.976081\n",
       " -0.98292     -0.650674    2.59853    …  -1.65074     0.684271   1.76332\n",
       "  0.82307     -0.318352    1.17192       -0.576592   -0.331817   0.732123\n",
       "  2.28221      0.752609    0.760229      -0.197305    1.16622    1.62622\n",
       "  ⋮                                   ⋱                         \n",
       " -0.884259    -0.940287   -0.732873       1.11803     0.305251   0.471291\n",
       " -0.26974      0.947525   -0.652508       0.753699    0.159493  -0.404446\n",
       "  1.51606      0.695071    0.5641         1.55928    -1.06687    1.70889\n",
       "  0.552002    -2.17324     0.370142   …  -1.50483    -2.05026   -0.703329\n",
       " -0.814392    -0.0196777   1.18752       -1.36175    -0.987439   1.16545\n",
       " -1.31598     -0.656247    1.40664        0.160335   -0.336094   0.245536\n",
       "  0.176054    -1.28224    -1.62308        2.14889    -1.58777    0.115435\n",
       "  0.0981747    0.0560363  -2.02259       -2.36221    -1.247      0.543891\n",
       " -1.15827     -0.582224   -1.49876    …   1.36557    -0.439926   0.255096\n",
       " -0.124561     1.24152     0.0299918      1.81821    -0.262708   0.905115\n",
       "  1.97057     -0.180601   -2.06741       -1.24312     0.971269   0.372404\n",
       " -0.195123     0.977989    0.992565      -0.772818   -0.259578   1.0552"
      ]
     },
     "metadata": {},
     "output_type": "display_data"
    },
    {
     "name": "stdout",
     "output_type": "stream",
     "text": [
      "xy MUL x:\n"
     ]
    },
    {
     "data": {
      "text/plain": [
       "1×10 Matrix{Int64}:\n",
       " 0  0  -1  0  0  0  0  0  0  0"
      ]
     },
     "metadata": {},
     "output_type": "display_data"
    },
    {
     "name": "stdout",
     "output_type": "stream",
     "text": [
      "xy MUL y:\n"
     ]
    },
    {
     "data": {
      "text/plain": [
       "1×10 Matrix{Float64}:\n",
       " -14.6188  -15.4004  -3.57505  -10.3034  …  -9.56071  -15.1188  -0.894974"
      ]
     },
     "metadata": {},
     "output_type": "display_data"
    },
    {
     "ename": "LoadError",
     "evalue": "DimensionMismatch: matrix A has dimensions (1,10), matrix B has dimensions (1,10)",
     "output_type": "error",
     "traceback": [
      "DimensionMismatch: matrix A has dimensions (1,10), matrix B has dimensions (1,10)",
      "",
      "Stacktrace:",
      " [1] _generic_matmatmul!(C::Matrix{Float64}, tA::Char, tB::Char, A::Matrix{Int64}, B::Matrix{Float64}, _add::LinearAlgebra.MulAddMul{true, true, Bool, Bool})",
      "   @ LinearAlgebra /Applications/Julia-1.10.app/Contents/Resources/julia/share/julia/stdlib/v1.10/LinearAlgebra/src/matmul.jl:796",
      " [2] generic_matmatmul!(C::Matrix{Float64}, tA::Char, tB::Char, A::Matrix{Int64}, B::Matrix{Float64}, _add::LinearAlgebra.MulAddMul{true, true, Bool, Bool})",
      "   @ LinearAlgebra /Applications/Julia-1.10.app/Contents/Resources/julia/share/julia/stdlib/v1.10/LinearAlgebra/src/matmul.jl:785",
      " [3] mul!",
      "   @ /Applications/Julia-1.10.app/Contents/Resources/julia/share/julia/stdlib/v1.10/LinearAlgebra/src/matmul.jl:263 [inlined]",
      " [4] mul!",
      "   @ /Applications/Julia-1.10.app/Contents/Resources/julia/share/julia/stdlib/v1.10/LinearAlgebra/src/matmul.jl:237 [inlined]",
      " [5] *",
      "   @ /Applications/Julia-1.10.app/Contents/Resources/julia/share/julia/stdlib/v1.10/LinearAlgebra/src/matmul.jl:106 [inlined]",
      " [6] forward(::BroadcastedOperator{typeof(*)}, x::Matrix{Int64}, y::Matrix{Float64})",
      "   @ Main ./In[72]:21",
      " [7] compute!(node::BroadcastedOperator{typeof(*)})",
      "   @ Main ~/Code/awid/graph.jl:76",
      " [8] forward!(order::Vector{Any})",
      "   @ Main ~/Code/awid/graph.jl:81",
      " [9] top-level scope",
      "   @ ./In[78]:26"
     ]
    }
   ],
   "source": [
    "function net(sample, input_weights, hidden_weights, output_weights, label)\n",
    "    i_1 = Variable(transpose(sample[1:196]), name=\"first_step_input\")\n",
    "    i_2 = Variable(transpose(sample[197:392]), name=\"second_step_input\")\n",
    "    i_3 = Variable(transpose(sample[393:588]), name=\"third_step_input\")\n",
    "    i_4 = Variable(transpose(sample[589:784]), name=\"fourth_step_input\")\n",
    "\n",
    "    s_1 = tanh(i_1 * Wi)\n",
    "    s_1.name = \"s_1\"\n",
    "    s_2 = tanh(i_2 * Wi .+ s_1 * Wh)\n",
    "    s_2.name = \"s_2\"\n",
    "    s_3 = tanh(i_3 * Wi .+ s_2 * Wh)\n",
    "    s_3.name = \"s_3\"\n",
    "    s_4 = tanh(i_4 * Wi .+ s_3 * Wh)\n",
    "    s_4.name = \"s_4\"\n",
    "    prediction = Softmax(s_4 * Wo)\n",
    "    prediction.name = \"prediction\"\n",
    "\n",
    "    E = cross_entropy_loss(prediction, Variable(label'))\n",
    "    E.name = \"loss\"\n",
    "\n",
    "    return topological_sort(E)\n",
    "end\n",
    "\n",
    "for (s, l) in test_loader\n",
    "    graph = net(s, Wi, Wh, Wo, l)\n",
    "    forward!(graph)\n",
    "    backward!(graph)\n",
    "end"
   ]
  },
  {
   "cell_type": "code",
   "execution_count": 89,
   "id": "2a48c2a3-b7a1-4054-b2bb-73c5d27258a3",
   "metadata": {},
   "outputs": [
    {
     "ename": "LoadError",
     "evalue": "DimensionMismatch: matrix A has dimensions (1,2), matrix B has dimensions (1,2)",
     "output_type": "error",
     "traceback": [
      "DimensionMismatch: matrix A has dimensions (1,2), matrix B has dimensions (1,2)",
      "",
      "Stacktrace:",
      " [1] _generic_matmatmul!(C::Matrix{Int64}, tA::Char, tB::Char, A::Matrix{Int64}, B::Matrix{Int64}, _add::LinearAlgebra.MulAddMul{true, true, Bool, Bool})",
      "   @ LinearAlgebra /Applications/Julia-1.10.app/Contents/Resources/julia/share/julia/stdlib/v1.10/LinearAlgebra/src/matmul.jl:796",
      " [2] generic_matmatmul!(C::Matrix{Int64}, tA::Char, tB::Char, A::Matrix{Int64}, B::Matrix{Int64}, _add::LinearAlgebra.MulAddMul{true, true, Bool, Bool})",
      "   @ LinearAlgebra /Applications/Julia-1.10.app/Contents/Resources/julia/share/julia/stdlib/v1.10/LinearAlgebra/src/matmul.jl:785",
      " [3] mul!",
      "   @ /Applications/Julia-1.10.app/Contents/Resources/julia/share/julia/stdlib/v1.10/LinearAlgebra/src/matmul.jl:263 [inlined]",
      " [4] mul!",
      "   @ /Applications/Julia-1.10.app/Contents/Resources/julia/share/julia/stdlib/v1.10/LinearAlgebra/src/matmul.jl:237 [inlined]",
      " [5] *",
      "   @ /Applications/Julia-1.10.app/Contents/Resources/julia/share/julia/stdlib/v1.10/LinearAlgebra/src/matmul.jl:106 [inlined]",
      " [6] forward(::BroadcastedOperator{typeof(mul!)}, A::Matrix{Int64}, x::Matrix{Int64})",
      "   @ Main ./In[87]:6",
      " [7] compute!(node::BroadcastedOperator{typeof(mul!)})",
      "   @ Main ~/Code/awid/graph.jl:76",
      " [8] forward!(order::Vector{Any})",
      "   @ Main ~/Code/awid/graph.jl:81",
      " [9] top-level scope",
      "   @ In[89]:1"
     ]
    }
   ],
   "source": [
    "forward!(topological_sort(Variable([1 2]) * Variable([1 2])))"
   ]
  }
 ],
 "metadata": {
  "kernelspec": {
   "display_name": "Julia 1.10.3",
   "language": "julia",
   "name": "julia-1.10"
  },
  "language_info": {
   "file_extension": ".jl",
   "mimetype": "application/julia",
   "name": "julia",
   "version": "1.10.3"
  }
 },
 "nbformat": 4,
 "nbformat_minor": 5
}
