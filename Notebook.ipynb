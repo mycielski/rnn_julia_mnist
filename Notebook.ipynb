{
 "cells": [
  {
   "cell_type": "markdown",
   "id": "b7876d91-2546-4686-8f34-ce91a3f9f811",
   "metadata": {},
   "source": [
    "# Packages"
   ]
  },
  {
   "cell_type": "code",
   "execution_count": 1,
   "id": "2cd8ce7b-8700-4a0b-a7bb-8bba47d1b462",
   "metadata": {},
   "outputs": [],
   "source": [
    "using LinearAlgebra: diagm"
   ]
  },
  {
   "cell_type": "code",
   "execution_count": 2,
   "id": "6ab669f4-d39e-4711-9f0c-409056fe1600",
   "metadata": {},
   "outputs": [
    {
     "name": "stderr",
     "output_type": "stream",
     "text": [
      "\u001b[32m\u001b[1m   Resolving\u001b[22m\u001b[39m package versions...\n",
      "\u001b[32m\u001b[1m  No Changes\u001b[22m\u001b[39m to `~/.julia/environments/v1.10/Project.toml`\n",
      "\u001b[32m\u001b[1m  No Changes\u001b[22m\u001b[39m to `~/.julia/environments/v1.10/Manifest.toml`\n",
      "\u001b[32m\u001b[1m   Resolving\u001b[22m\u001b[39m package versions...\n",
      "\u001b[32m\u001b[1m  No Changes\u001b[22m\u001b[39m to `~/.julia/environments/v1.10/Project.toml`\n",
      "\u001b[32m\u001b[1m  No Changes\u001b[22m\u001b[39m to `~/.julia/environments/v1.10/Manifest.toml`\n"
     ]
    }
   ],
   "source": [
    "using Pkg\n",
    "Pkg.add(\"MLDatasets\")\n",
    "Pkg.add(\"Flux\")"
   ]
  },
  {
   "cell_type": "code",
   "execution_count": 3,
   "id": "20c6c03e-ac33-412d-90e7-86a8129beb7f",
   "metadata": {},
   "outputs": [
    {
     "data": {
      "text/plain": [
       "backward (generic function with 9 methods)"
      ]
     },
     "execution_count": 3,
     "metadata": {},
     "output_type": "execute_result"
    }
   ],
   "source": [
    "include(\"graph.jl\")"
   ]
  },
  {
   "cell_type": "markdown",
   "id": "6b36c108-a1fa-45ef-b147-f2338c3fcb49",
   "metadata": {},
   "source": [
    "---\n",
    "# Dataset"
   ]
  },
  {
   "cell_type": "code",
   "execution_count": 4,
   "id": "dcbc46e7-2d8a-428c-bdcf-e7c6dd7a857f",
   "metadata": {},
   "outputs": [
    {
     "data": {
      "text/plain": [
       "10000-element DataLoader(::Tuple{Matrix{Float32}, OneHotArrays.OneHotMatrix{UInt32, Vector{UInt32}}}, shuffle=true)\n",
       "  with first element:\n",
       "  (784×1 Matrix{Float32}, 10×1 OneHotMatrix(::Vector{UInt32}) with eltype Bool,)"
      ]
     },
     "execution_count": 4,
     "metadata": {},
     "output_type": "execute_result"
    }
   ],
   "source": [
    "using MLDatasets\n",
    "train_data = MLDatasets.MNIST(split=:train)\n",
    "test_data  = MLDatasets.MNIST(split=:test)\n",
    "\n",
    "using Flux\n",
    "function loader(data; batchsize::Int=1)\n",
    "    x1dim = reshape(data.features, 28 * 28, :) # reshape 28×28 pixels into a vector of pixels\n",
    "    yhot  = Flux.onehotbatch(data.targets, 0:9) # make a 10×60000 OneHotMatrix\n",
    "    Flux.DataLoader((x1dim, yhot); batchsize, shuffle=true)\n",
    "end\n",
    "\n",
    "train_loader = loader(train_data)\n",
    "test_loader = loader(test_data)"
   ]
  },
  {
   "cell_type": "markdown",
   "id": "e7307257-f3f6-4cfd-9436-f9b0b8b89c39",
   "metadata": {},
   "source": [
    "---\n",
    "# Operations"
   ]
  },
  {
   "cell_type": "markdown",
   "id": "964089f0-70bb-4ead-9e90-5cb9ae06ccc5",
   "metadata": {},
   "source": [
    "## Tanh"
   ]
  },
  {
   "cell_type": "code",
   "execution_count": 5,
   "id": "b30b982b-f0bd-49a2-99d9-4933ea1f5faf",
   "metadata": {},
   "outputs": [
    {
     "data": {
      "text/plain": [
       "backward (generic function with 10 methods)"
      ]
     },
     "execution_count": 5,
     "metadata": {},
     "output_type": "execute_result"
    }
   ],
   "source": [
    "import Base: tanh\n",
    "\n",
    "tanh(x::GraphNode) = BroadcastedOperator(tanh, x)\n",
    "forward(::BroadcastedOperator{typeof(tanh)}, x) = return tanh.(x)\n",
    "backward(node::BroadcastedOperator{typeof(tanh)}, x, g) = return tuple((1 .- tanh.(x).^2) .* g)"
   ]
  },
  {
   "cell_type": "markdown",
   "id": "2a2f81a6-f478-4f00-ac9b-20327a7302c0",
   "metadata": {},
   "source": [
    "## Softmax"
   ]
  },
  {
   "cell_type": "code",
   "execution_count": 6,
   "id": "76c7e323-ca56-4fa0-b777-cb35e9533308",
   "metadata": {},
   "outputs": [
    {
     "data": {
      "text/plain": [
       "backward (generic function with 11 methods)"
      ]
     },
     "execution_count": 6,
     "metadata": {},
     "output_type": "execute_result"
    }
   ],
   "source": [
    "Softmax(x::GraphNode) = BroadcastedOperator(Softmax, x)\n",
    "forward(::BroadcastedOperator{typeof(Softmax)}, x) = return exp.(x) ./ sum(exp.(x))\n",
    "backward(node::BroadcastedOperator{typeof(Softmax)}, x, g) = let\n",
    "    y = node.output\n",
    "    J = diagm(y) .- y * y'\n",
    "    tuple(J' * g)\n",
    "end"
   ]
  },
  {
   "cell_type": "markdown",
   "id": "017356bd-d9da-4f90-868b-819b68c37816",
   "metadata": {},
   "source": [
    "## Log"
   ]
  },
  {
   "cell_type": "code",
   "execution_count": 7,
   "id": "df75d494-6c26-4cca-a077-57640e352441",
   "metadata": {},
   "outputs": [
    {
     "data": {
      "text/plain": [
       "backward (generic function with 12 methods)"
      ]
     },
     "execution_count": 7,
     "metadata": {},
     "output_type": "execute_result"
    }
   ],
   "source": [
    "import Base: log\n",
    "Base.Broadcast.broadcasted(log, x::GraphNode) = BroadcastedOperator(log, x)\n",
    "forward(::BroadcastedOperator{typeof(log)}, x) = return log.(x)\n",
    "backward(::BroadcastedOperator{typeof(log)}, x, g) = let\n",
    "    tuple(g ./ x)\n",
    "end"
   ]
  },
  {
   "cell_type": "markdown",
   "id": "e65fd212-4d06-434d-9545-27a938347fb9",
   "metadata": {},
   "source": [
    "---\n",
    "# Network"
   ]
  },
  {
   "cell_type": "markdown",
   "id": "75cabb64-419c-40de-8fb5-14be917b2a29",
   "metadata": {},
   "source": [
    "## Hyperparameters"
   ]
  },
  {
   "cell_type": "code",
   "execution_count": 8,
   "id": "94e6aee6-1b3b-484d-93e2-276d7c0ede03",
   "metadata": {},
   "outputs": [
    {
     "data": {
      "text/plain": [
       "10"
      ]
     },
     "execution_count": 8,
     "metadata": {},
     "output_type": "execute_result"
    }
   ],
   "source": [
    "INPUT_SIZE = 196\n",
    "HIDDEN_SIZE = 64\n",
    "OUTPUT_SIZE = 10"
   ]
  },
  {
   "cell_type": "markdown",
   "id": "79c824d9-1414-4736-afb2-7326cb80e5d6",
   "metadata": {},
   "source": [
    "## Weight init"
   ]
  },
  {
   "cell_type": "markdown",
   "id": "0d882c97-fd70-4129-beff-8e79b4c5708c",
   "metadata": {},
   "source": [
    "I tried glorot, like so:"
   ]
  },
  {
   "cell_type": "code",
   "execution_count": 9,
   "id": "d4c5644d-3b3b-4ff7-8dad-84348adb5826",
   "metadata": {},
   "outputs": [
    {
     "data": {
      "text/plain": [
       "glorot (generic function with 2 methods)"
      ]
     },
     "execution_count": 9,
     "metadata": {},
     "output_type": "execute_result"
    }
   ],
   "source": [
    "function glorot(size_a, size_b)\n",
    "    total_size = size_a + size_b\n",
    "    denum = sqrt(total_size)\n",
    "    return randn(size_a, size_b) * sqrt(sqrt(6)/sqrt(denum)) .-= sqrt(6)/denum\n",
    "end\n",
    "\n",
    "function glorot(size_a)\n",
    "    denum = sqrt(size_a)\n",
    "    return randn(size_a) * sqrt(sqrt(6)/sqrt(denum)) .-= sqrt(6)/denum\n",
    "end"
   ]
  },
  {
   "cell_type": "code",
   "execution_count": 10,
   "id": "295667bf-47c1-4843-a43b-d4bf25af3cf4",
   "metadata": {},
   "outputs": [
    {
     "data": {
      "text/plain": [
       "var Bh\n",
       " ┣━ ^ 10-element Vector{Float64}\n",
       " ┗━ ∇ Nothing"
      ]
     },
     "execution_count": 10,
     "metadata": {},
     "output_type": "execute_result"
    }
   ],
   "source": [
    "Wi = Variable(glorot(HIDDEN_SIZE, INPUT_SIZE), name=\"wi\")\n",
    "Wh = Variable(glorot(HIDDEN_SIZE, HIDDEN_SIZE), name=\"wh\")\n",
    "Wo = Variable(glorot(OUTPUT_SIZE, HIDDEN_SIZE), name=\"wo\")\n",
    "\n",
    "Bh = Variable(glorot(HIDDEN_SIZE), name=\"Bh\")\n",
    "Bo = Variable(glorot(OUTPUT_SIZE), name=\"Bh\")"
   ]
  },
  {
   "cell_type": "markdown",
   "id": "125b1ef5-1a54-46e1-84d1-a6e38efbd258",
   "metadata": {},
   "source": [
    "But *not* using glorot yields better results."
   ]
  },
  {
   "cell_type": "code",
   "execution_count": 11,
   "id": "4fbbb49f-c892-45a1-aef0-32297bc1d591",
   "metadata": {},
   "outputs": [
    {
     "data": {
      "text/plain": [
       "var Bo\n",
       " ┣━ ^ 10-element Vector{Float64}\n",
       " ┗━ ∇ Nothing"
      ]
     },
     "execution_count": 11,
     "metadata": {},
     "output_type": "execute_result"
    }
   ],
   "source": [
    "bound = 1/sqrt(HIDDEN_SIZE)  # read somewhere that this is a good way to init weights for tanh\n",
    "\n",
    "Wi = Variable(bound .* randn(HIDDEN_SIZE, INPUT_SIZE), name=\"wi\")\n",
    "Wh = Variable(bound .* randn(HIDDEN_SIZE, HIDDEN_SIZE), name=\"wh\")\n",
    "Wo = Variable(bound .* randn(OUTPUT_SIZE, HIDDEN_SIZE), name=\"wo\")\n",
    "\n",
    "Bh = Variable(bound .* randn(HIDDEN_SIZE), name=\"Bh\")\n",
    "Bo = Variable(bound .* randn(OUTPUT_SIZE), name=\"Bo\")"
   ]
  },
  {
   "cell_type": "markdown",
   "id": "be70b339-a6fb-4228-b884-9d58b2b773de",
   "metadata": {},
   "source": [
    "## Loss function"
   ]
  },
  {
   "cell_type": "code",
   "execution_count": 12,
   "id": "8dc21e1d-bfcd-4032-99e2-0fd3d88ac778",
   "metadata": {},
   "outputs": [
    {
     "data": {
      "text/plain": [
       "cross_entropy_loss (generic function with 1 method)"
      ]
     },
     "execution_count": 12,
     "metadata": {},
     "output_type": "execute_result"
    }
   ],
   "source": [
    "function cross_entropy_loss(prediction, label)\n",
    "    return Constant(-1) .* sum(Variable(label) .* log.(prediction))\n",
    "end"
   ]
  },
  {
   "cell_type": "markdown",
   "id": "e0fa6a16-e295-4652-a9d4-bf754fecba0e",
   "metadata": {},
   "source": [
    "## Network"
   ]
  },
  {
   "cell_type": "code",
   "execution_count": 13,
   "id": "7fd577ae-b64a-4d4d-acbb-76ab99366528",
   "metadata": {},
   "outputs": [
    {
     "data": {
      "text/plain": [
       "net (generic function with 1 method)"
      ]
     },
     "execution_count": 13,
     "metadata": {},
     "output_type": "execute_result"
    }
   ],
   "source": [
    "function net(sample, input_weights, hidden_weights, output_weights, label)\n",
    "    i_1 = Variable(sample[1:196], name=\"first_step_input\")\n",
    "    i_2 = Variable(sample[197:392], name=\"second_step_input\")\n",
    "    i_3 = Variable(sample[393:588], name=\"third_step_input\")\n",
    "    i_4 = Variable(sample[589:784], name=\"fourth_step_input\")\n",
    "\n",
    "    s_1 = tanh(Wi * i_1 .+ Bh)\n",
    "    s_1.name = \"s_1\"\n",
    "    s_2 = tanh(Wi * i_2 .+ Wh * s_1 .+ Bh)\n",
    "    s_2.name = \"s_2\"\n",
    "    s_3 = tanh(Wi * i_3 .+ Wh * s_2 .+ Bh)\n",
    "    s_3.name = \"s_3\"\n",
    "    s_4 = tanh(Wi * i_4 .+ Wh * s_3 .+ Bh)\n",
    "    s_4.name = \"s_4\"\n",
    "    prediction = Softmax(Wo * s_4 .+ Bo)\n",
    "    prediction.name = \"prediction\"\n",
    "\n",
    "    E = cross_entropy_loss(prediction, label)\n",
    "    E.name = \"loss\"\n",
    "\n",
    "    return topological_sort(E), prediction\n",
    "end"
   ]
  },
  {
   "cell_type": "markdown",
   "id": "43d8cda8-dbcf-46b3-b9eb-6144493c9b2e",
   "metadata": {},
   "source": [
    "---\n",
    "# Training"
   ]
  },
  {
   "cell_type": "markdown",
   "id": "552398c0-6011-4822-af00-21919abf6f75",
   "metadata": {},
   "source": [
    "### Hyperparameters setup:"
   ]
  },
  {
   "cell_type": "code",
   "execution_count": 14,
   "id": "dc4ae959-3bbc-4cff-ad0b-2f30941ea1b1",
   "metadata": {},
   "outputs": [
    {
     "data": {
      "text/plain": [
       "100"
      ]
     },
     "execution_count": 14,
     "metadata": {},
     "output_type": "execute_result"
    }
   ],
   "source": [
    "STEP_SIZE = 0.5  # this yields better accuracy than 15e-3\n",
    "# STEP_SIZE = 15e-3\n",
    "EPOCHS = 5\n",
    "BATCH_SIZE = 100"
   ]
  },
  {
   "cell_type": "markdown",
   "id": "209efe05-7e4a-4613-936f-c5db02960643",
   "metadata": {},
   "source": [
    "### Main loop:"
   ]
  },
  {
   "cell_type": "code",
   "execution_count": 15,
   "id": "5a41ebaa-3402-49dc-a6e4-490842dee105",
   "metadata": {},
   "outputs": [
    {
     "name": "stdout",
     "output_type": "stream",
     "text": [
      " 20.396818 seconds (72.03 M allocations: 39.269 GiB, 8.84% gc time, 14.00% compilation time)\n",
      " 18.065822 seconds (60.68 M allocations: 38.520 GiB, 9.63% gc time)\n",
      " 17.540481 seconds (60.68 M allocations: 38.520 GiB, 9.40% gc time)\n",
      " 17.218352 seconds (60.68 M allocations: 38.520 GiB, 8.72% gc time)\n",
      " 17.524114 seconds (60.68 M allocations: 38.520 GiB, 8.94% gc time)\n"
     ]
    }
   ],
   "source": [
    "for epoch_index in range(start=1, stop=EPOCHS)\n",
    "    Wi_grad_agg = zeros(HIDDEN_SIZE, INPUT_SIZE)\n",
    "    Wh_grad_agg = zeros(HIDDEN_SIZE, HIDDEN_SIZE)\n",
    "    Wo_grad_agg = zeros(OUTPUT_SIZE, HIDDEN_SIZE)\n",
    "\n",
    "    Bh_grad_agg = zeros(HIDDEN_SIZE)\n",
    "    Bo_grad_agg = zeros(OUTPUT_SIZE)\n",
    "    \n",
    "    # for (index, (s, l)) in enumerate(train_loader)\n",
    "    @time for (index, (s, l)) in enumerate(train_loader)\n",
    "        graph, predicted = net(s, Wi, Wh, Wo, l)\n",
    "        forward!(graph)\n",
    "        backward!(graph)\n",
    "    \n",
    "        Wi_grad_agg .+= Wi.gradient\n",
    "        Wh_grad_agg .+= Wh.gradient\n",
    "        Wo_grad_agg .+= Wo.gradient\n",
    "\n",
    "        Bh_grad_agg .+= Bh.gradient\n",
    "        Bo_grad_agg .+= Bo.gradient\n",
    "        \n",
    "        if index % BATCH_SIZE == 0\n",
    "            Wi.output .-= ((Wi_grad_agg/BATCH_SIZE) * STEP_SIZE)\n",
    "            Wh.output .-= ((Wh_grad_agg/BATCH_SIZE) * STEP_SIZE)\n",
    "            Wo.output .-= ((Wo_grad_agg/BATCH_SIZE) * STEP_SIZE)\n",
    "            Wi_grad_agg = zeros(HIDDEN_SIZE, INPUT_SIZE)\n",
    "            Wh_grad_agg = zeros(HIDDEN_SIZE, HIDDEN_SIZE)\n",
    "            Wo_grad_agg = zeros(OUTPUT_SIZE, HIDDEN_SIZE)\n",
    "\n",
    "            Bh.output .-= ((Bh_grad_agg/BATCH_SIZE) * STEP_SIZE)\n",
    "            Bo.output .-= ((Bo_grad_agg/BATCH_SIZE) * STEP_SIZE)\n",
    "            Bh_grad_agg = zeros(HIDDEN_SIZE)\n",
    "            Bo_grad_agg = zeros(OUTPUT_SIZE)\n",
    "        end\n",
    "    end\n",
    "end"
   ]
  },
  {
   "cell_type": "markdown",
   "id": "7cf1e404-1160-4c3b-91f0-96106f163725",
   "metadata": {},
   "source": [
    "### Evaluation loop:"
   ]
  },
  {
   "cell_type": "code",
   "execution_count": null,
   "id": "8b269cf9-8086-4be2-a0f1-12f3fe4b4281",
   "metadata": {},
   "outputs": [],
   "source": [
    "correct = 0\n",
    "total = 0\n",
    "\n",
    "@time for (index, (s, l)) in enumerate(test_loader)\n",
    "    graph, predicted = net(s, Wi, Wh, Wo, l)\n",
    "    forward!(graph)\n",
    "    backward!(graph)\n",
    "    if argmax(predicted.output) == argmax(l)[1]\n",
    "        correct += 1\n",
    "    end\n",
    "    total += 1\n",
    "end\n",
    "\n",
    "println(\"\\nTest accuracy:\")\n",
    "println(round(correct/total*100, digits=4), \"%\")"
   ]
  },
  {
   "cell_type": "markdown",
   "id": "ea7319f1-605a-4058-b722-a0401876cdb3",
   "metadata": {},
   "source": [
    "**Decent.**"
   ]
  },
  {
   "cell_type": "markdown",
   "id": "42f2bd38-783a-4f27-b587-2056b30dc74f",
   "metadata": {},
   "source": [
    "---"
   ]
  }
 ],
 "metadata": {
  "kernelspec": {
   "display_name": "Julia 1.10.3",
   "language": "julia",
   "name": "julia-1.10"
  },
  "language_info": {
   "file_extension": ".jl",
   "mimetype": "application/julia",
   "name": "julia",
   "version": "1.10.4"
  }
 },
 "nbformat": 4,
 "nbformat_minor": 5
}
